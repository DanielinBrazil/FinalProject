{
 "cells": [
  {
   "cell_type": "code",
   "execution_count": null,
   "id": "8fc4c11b-8e5e-49a5-b056-66f3506b2527",
   "metadata": {},
   "outputs": [],
   "source": [
    "from pypiano import Piano\n",
    "from mingus.containers import Note\n",
    "\n",
    "\n",
    "def main():\n",
    "    p = Piano()\n",
    "    p.play(\"C-4\")"
   ]
  }
 ],
 "metadata": {
  "kernelspec": {
   "display_name": "Python 3 (ipykernel)",
   "language": "python",
   "name": "python3"
  },
  "language_info": {
   "codemirror_mode": {
    "name": "ipython",
    "version": 3
   },
   "file_extension": ".py",
   "mimetype": "text/x-python",
   "name": "python",
   "nbconvert_exporter": "python",
   "pygments_lexer": "ipython3",
   "version": "3.11.9"
  }
 },
 "nbformat": 4,
 "nbformat_minor": 5
}
